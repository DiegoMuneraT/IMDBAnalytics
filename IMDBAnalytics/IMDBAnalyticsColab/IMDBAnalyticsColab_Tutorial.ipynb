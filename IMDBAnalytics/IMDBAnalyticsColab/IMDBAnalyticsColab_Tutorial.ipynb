{
  "nbformat": 4,
  "nbformat_minor": 0,
  "metadata": {
    "colab": {
      "provenance": [],
      "authorship_tag": "ABX9TyOp1a4T1ilk+GWdW7SQ/kvP",
      "include_colab_link": true
    },
    "kernelspec": {
      "name": "python3",
      "display_name": "Python 3"
    },
    "language_info": {
      "name": "python"
    }
  },
  "cells": [
    {
      "cell_type": "markdown",
      "metadata": {
        "id": "view-in-github",
        "colab_type": "text"
      },
      "source": [
        "<a href=\"https://colab.research.google.com/github/jdmartinev/IMDBAnalytics/blob/main/IMDBAnalyticsColab/IMDBAnalyticsColab_Tutorial.ipynb\" target=\"_parent\"><img src=\"https://colab.research.google.com/assets/colab-badge.svg\" alt=\"Open In Colab\"/></a>"
      ]
    },
    {
      "cell_type": "markdown",
      "source": [
        "# Tutorial\n",
        "\n",
        "En este tutorial, analizará una base de datos de películas *IMDb Movies dataset* para aprender conceptos y procedimientos básicos utilizados en el análisis de datos. Al final, usted tendrá la capacidad de:\n",
        "\n",
        "-  Importar y explorar datos\n",
        "-  Realizar limpieza de datos\n",
        "-  Utilizar Pandas/Plotly para crear histogramas que le permitan analizar la distribución de los datos\n",
        "-  Crear gráficos de líneas y de barras (_line charts_ & _bar charts_) para visualizar datos\n",
        "-  Utilizar Pandas y Plotly para crear gráficas de dispersión (_scatter plots_) para realizar análisis de correlación\n"
      ],
      "metadata": {
        "id": "aaoFwkr4n_eF"
      }
    },
    {
      "cell_type": "markdown",
      "source": [
        "## Descarga de datos\n",
        "\n",
        "Lo primero que hará será descargar los datos con los que va a trabajar:\n",
        "\n",
        "- Tabla de películas (archivo csv).\n",
        "- _Shapefile_ (archivo .shp y archivos auxiliares) con la información necesaria para graficar mapas. De forma resumida, este archivo almacena información geométrica en forma de líneas o polígonos. En este caso partícular, el _shapefile_ tendrá la geometría de los países que nos servirá para pintar en el mapa datos relevantes extraídos de la información contenida en la base de datos de películas.  \n",
        "\n",
        "Estos archivos quedarán en la carpeta _/content/IMDBAnalyticsData/_ asociada con el sistema operativo del servidor en el que se está ejecutando google colab.\n"
      ],
      "metadata": {
        "id": "_hzf1d7JpfrX"
      }
    },
    {
      "cell_type": "code",
      "source": [
        "!wget --no-check-certificate 'https://docs.google.com/uc?export=download&id=1osH_xhTCW4Qh7f00VU_UaRK5whEXe8dr' -O data\n",
        "!unzip \"/content/data\" -d \"/content/IMDBAnalyticsData/\""
      ],
      "metadata": {
        "id": "TeLGFIUQsOdZ"
      },
      "execution_count": null,
      "outputs": []
    },
    {
      "cell_type": "markdown",
      "source": [
        "### Importar las librerías necesarias\n",
        "\n",
        "Importe las librerías que le servirán para el procesamiento y visualización de datos. La librería _geopandas_, que sirve para el procesamiento de archivos con información geográfica (_shapefiles_) no está instalada por defecto en el ambiente de google colab. Por esta razón, debe instalarla"
      ],
      "metadata": {
        "id": "8FgflsjGscqg"
      }
    },
    {
      "cell_type": "code",
      "source": [
        "!pip install geopandas"
      ],
      "metadata": {
        "id": "LyiSFCGUtIaK"
      },
      "execution_count": null,
      "outputs": []
    },
    {
      "cell_type": "code",
      "execution_count": 3,
      "metadata": {
        "id": "0ytEOPM2BqZg"
      },
      "outputs": [],
      "source": [
        "import pandas as pd\n",
        "import geopandas as gpd\n",
        "import numpy as np\n",
        "import plotly.express as px"
      ]
    },
    {
      "cell_type": "markdown",
      "source": [
        "## **1. Procesamiento básico**\n",
        "\n",
        "En este primer paso, cargará la base de datos (archivo .csv) a un _dataframe_ de pandas y utilizará algunas funciones de la librería que le ayudarán a tener información básica de los datos. De forma resumida, un _dataframe_ de pandas es una estructura de datos bidimensional en la que los datos se organizan en filas y columnas. Es similar a una hoja de cálculo en Excel, donde cada columna representa una variable y cada fila representa una observación.\n",
        "\n"
      ],
      "metadata": {
        "id": "HFGheSl0t6az"
      }
    },
    {
      "cell_type": "code",
      "source": [
        "df = pd.read_csv('IMDBAnalyticsData/Data/movie_metadata.csv') #Cargar el archivo csv al dataframe df\n",
        "df.head(5) #Mostrar las primeras 5 filas de la tabla "
      ],
      "metadata": {
        "id": "ljP8tX71vOIV"
      },
      "execution_count": null,
      "outputs": []
    },
    {
      "cell_type": "code",
      "source": [
        "df.shape #Tamaño de la tabla (df.shape[0] es el número de filas y df.shape[1] es el número de columnas)"
      ],
      "metadata": {
        "id": "tJ0YtiR9tvAn"
      },
      "execution_count": null,
      "outputs": []
    },
    {
      "cell_type": "code",
      "source": [
        "df.dtypes #Muestra el tipo de dato que se almacena en cada columna de la tabla"
      ],
      "metadata": {
        "id": "3yRVGT8_v3kH"
      },
      "execution_count": null,
      "outputs": []
    },
    {
      "cell_type": "markdown",
      "source": [
        "Podemos acceder a las filas y columnas del _dataframe_ de las siguientes formas: \n",
        "\n",
        "- Acceder a todas las filas en la columna _director name_\n",
        "```python \n",
        "df[\"director_name\"] \n",
        "df.director_name\n",
        "```\n",
        "La segunda forma solo funciona si el nombre de la columna no tiene espacios\n",
        "\n",
        "- Acceder a unas filas específicas de la columna _director name_\n",
        "```python \n",
        "df.loc[0,\"director_name\"] \n",
        "df.loc[0:10,\"director_name\"]\n",
        "```\n",
        "\n",
        "- Acceder a filas y columnas específicas\n",
        "```python \n",
        "df.loc[0:10,[\"director_name\",\"movie_title\"]]\n",
        "df.iloc[0:10,[0,1]] \n",
        "```\n",
        "El método ```loc``` indexa las columnas por su nombre, mientas que el método ```iloc``` indexa las columnas por su posición."
      ],
      "metadata": {
        "id": "61wE6sIGwJ0q"
      }
    },
    {
      "cell_type": "code",
      "source": [
        "df.loc[0:10,[\"director_name\",\"movie_title\"]]"
      ],
      "metadata": {
        "id": "yRTYolMAxtBK"
      },
      "execution_count": null,
      "outputs": []
    },
    {
      "cell_type": "code",
      "source": [
        "df.iloc[0:10,[0,1]] "
      ],
      "metadata": {
        "id": "ShOvTDy_yDMh"
      },
      "execution_count": null,
      "outputs": []
    },
    {
      "cell_type": "markdown",
      "source": [
        "## **2. Preparación de datos**\n",
        "\n",
        "Remueva algunas columnas que no son importantes para el análisis que se va a realizar.\n",
        "\n",
        "- _movie_imdb_link_\n",
        "- _num_critic_for_reviews_\n",
        "- _genre_\n",
        "\n",
        "El método ```drop``` permite hacer este proceso. El parámetro ```axis = 1``` se utiliza para que elimine información de las columnas, ```columns``` especifica las columnas a remover, e ```inplace = True``` se utiliza para que la modificación hecha se almacene en la varianle ```df``` sin necesidad de hacer una nueva asignación de variables. \n"
      ],
      "metadata": {
        "id": "RfK4TqDMyvmX"
      }
    },
    {
      "cell_type": "code",
      "source": [
        "df.drop(axis = 1, columns = [\"movie_imdb_link\",\"num_critic_for_reviews\"],inplace = True)\n",
        "df.head(5) #Mostrar de nuevo las 5 primeras filas para corroborar que se eliminaron las columnas "
      ],
      "metadata": {
        "id": "gXK7V3ANzFnV"
      },
      "execution_count": null,
      "outputs": []
    },
    {
      "cell_type": "markdown",
      "source": [
        "Ejercicio: Remover la columna faltante"
      ],
      "metadata": {
        "id": "lXRHUbjZ08SP"
      }
    },
    {
      "cell_type": "code",
      "source": [
        "#Código del ejercicio"
      ],
      "metadata": {
        "id": "6QysBaO300bz"
      },
      "execution_count": null,
      "outputs": []
    },
    {
      "cell_type": "markdown",
      "source": [
        "Muestre las columnas como una lista para corroborar que las columnas no deseadas se eliminaron."
      ],
      "metadata": {
        "id": "YvN0CzB31EQW"
      }
    },
    {
      "cell_type": "code",
      "source": [
        "list(df) "
      ],
      "metadata": {
        "id": "8vVvu5Z3z_tK"
      },
      "execution_count": null,
      "outputs": []
    },
    {
      "cell_type": "markdown",
      "source": [
        "Revise de nuevo el tamaño del dataframe. Debe ser diferente al tamaño inicial"
      ],
      "metadata": {
        "id": "f_Ra-KHJ1Vb5"
      }
    },
    {
      "cell_type": "code",
      "source": [
        "df.shape "
      ],
      "metadata": {
        "id": "QpTsVE660EQj"
      },
      "execution_count": null,
      "outputs": []
    },
    {
      "cell_type": "markdown",
      "source": [
        "La columna _title_year_ almacena valores de tipo _float_. Sin embargo, los años se deben manejar como números enteros. Haga esta modificación utilizando el método ```astype```. Este método no permite utilizar el parámetro ```inplace```, por lo que es necesario hacer una re-asignación de la variable _df_."
      ],
      "metadata": {
        "id": "HsjHi_6_2D_M"
      }
    },
    {
      "cell_type": "code",
      "source": [
        "df['title_year'] = df['title_year'].astype(\"Int64\")\n",
        "df['title_year']"
      ],
      "metadata": {
        "id": "3PreV5sJ2wOs"
      },
      "execution_count": null,
      "outputs": []
    },
    {
      "cell_type": "markdown",
      "source": [
        "Cambie el nombre de la columna _gross_ a _movie_income_ utliando el método ```rename```"
      ],
      "metadata": {
        "id": "5kvbY79E1fbB"
      }
    },
    {
      "cell_type": "code",
      "source": [
        "rename_dict = {\"gross\":\"movie_income\", \"language\":\"Language\"}\n",
        "df.rename(columns = rename_dict,inplace = True)"
      ],
      "metadata": {
        "id": "P23DX-l53AEf"
      },
      "execution_count": 7,
      "outputs": []
    },
    {
      "cell_type": "markdown",
      "source": [
        "## **3. Análisis de datos**\n",
        "\n",
        "Para el análisis de datos utilizará diferentes tipos de figuras. Empezará con histogramas. Un histograma es una representación gráfica de la distribución de frecuencias de un conjunto de datos numéricos. En un histograma, se dividen los datos en una serie de \"bins\" o \"intervalos\", y se cuenta la frecuencia de observaciones que caen en cada bin. Luego, se grafica la frecuencia de cada bin en el eje vertical y el valor de cada bin en el eje horizontal, lo que permite visualizar la forma y la dispersión de la distribución de los datos.\n",
        "\n",
        "En un histograma, la altura de cada barra representa la frecuencia de los datos que caen en ese bin. Los bins pueden ser de igual ancho (por ejemplo, cada bin puede representar un intervalo de 10 unidades) o de ancho variable (por ejemplo, para representar intervalos de mayor o menor densidad de datos).\n",
        "\n",
        "Visualice la distribución de la columna _duration_ utilizando histogramas. Para esto utilizará el método ```hist```, el parámetro ```bins``` permitirá definir en cuántos intervalos se analizará la frecuencia de repeticiones de eventos, en este caso, duración de las películas. Se almacena la figura en la variable ```ax```, lo que permite agregar información adicional para su interpretación. en esta figura puede observar que la mayoría de películas duran aproximadamente 100 minutos.\n",
        "\n"
      ],
      "metadata": {
        "id": "JAhIVvoM39tI"
      }
    },
    {
      "cell_type": "code",
      "source": [
        "ax = df[\"duration\"].hist(bins = 20)\n",
        "ax.set_xlabel('Time [mins]')\n",
        "ax.set_ylabel('Counts')"
      ],
      "metadata": {
        "id": "ViWyF0Du4ojS"
      },
      "execution_count": null,
      "outputs": []
    },
    {
      "cell_type": "markdown",
      "source": [
        "Hará la misma figura utilizando la librería _plotly express_"
      ],
      "metadata": {
        "id": "vNhbznP35kNa"
      }
    },
    {
      "cell_type": "code",
      "source": [
        "fig = px.histogram(df, x=\"duration\",nbins=40,labels={'duration':'Time [mins] '})\n",
        "fig.show()"
      ],
      "metadata": {
        "id": "h-3izwbv6By7"
      },
      "execution_count": null,
      "outputs": []
    },
    {
      "cell_type": "markdown",
      "source": [
        "Ejercicio: Cree un histograma para ver la distribución de la columna _imdb_score_\n"
      ],
      "metadata": {
        "id": "6sZek9dm7Elz"
      }
    },
    {
      "cell_type": "code",
      "source": [
        "#Código del ejercicio"
      ],
      "metadata": {
        "id": "esfGiaJl7mHu"
      },
      "execution_count": null,
      "outputs": []
    },
    {
      "cell_type": "markdown",
      "source": [
        "Puede hacer consultas con respecto a alguna variable. Por ejemplo, filtre las película que tengan un _imdb_score_ menor que 4"
      ],
      "metadata": {
        "id": "Px3rt5kjA9Hw"
      }
    },
    {
      "cell_type": "code",
      "source": [
        "df['imdb_score'] < 4\n",
        "#df.imdb_score < 4 #Esta línea hace lo mismo"
      ],
      "metadata": {
        "id": "hJmEvxZyBOkC"
      },
      "execution_count": null,
      "outputs": []
    },
    {
      "cell_type": "markdown",
      "source": [
        "El resultado es un arreglo unidimensional de pandas de tipo _series_ (similar a un _dataframe_ pero con una sola columna) que va a tomar el valor ```True``` en las filas en las que la condición se cumple y ````False``` en las demás filas. Este nuevo arreglo se puede almacenar en una nueva variable o se puede utilizar para indexar el _dataframe_. En este caso, creará un nuevo _dataframe_ con nombre _df_low_score_ que tendrá todas las columnas de _df_ pero únicamente las filas que cumplen con la condición.  "
      ],
      "metadata": {
        "id": "cepLj08gBbqH"
      }
    },
    {
      "cell_type": "code",
      "source": [
        "index = df['imdb_score'] < 4\n",
        "df_low_score = df[index]\n",
        "df_low_score"
      ],
      "metadata": {
        "id": "SFkAd35NCOkp"
      },
      "execution_count": null,
      "outputs": []
    },
    {
      "cell_type": "code",
      "source": [
        "#esta celda es una forma diferente de hacer lo mismo\n",
        "df_low_score = df[df['imdb_score'] < 4]\n",
        "df_low_score"
      ],
      "metadata": {
        "id": "MPyw4-UNCcnD"
      },
      "execution_count": null,
      "outputs": []
    },
    {
      "cell_type": "markdown",
      "source": [
        "Revise que en verdad las películas en este nuevo _dataframe_ tengan un _imdb_score_ menor a 4"
      ],
      "metadata": {
        "id": "5OjQ-6TxCayT"
      }
    },
    {
      "cell_type": "code",
      "source": [
        "df_low_score.loc[:,['movie_title','imdb_score']]"
      ],
      "metadata": {
        "id": "X0qpi5tzDkDF"
      },
      "execution_count": null,
      "outputs": []
    },
    {
      "cell_type": "markdown",
      "source": [
        "Ejercicio: Revise la distribución de la columna _imdb_score_ de las películas producidas en USA utilizando histogramas. Si es necesario, cree _dataframes_ que le ayuden a resolver la tarea."
      ],
      "metadata": {
        "id": "oZTFEM9JEWou"
      }
    },
    {
      "cell_type": "code",
      "source": [
        "#Código del ejercicio"
      ],
      "metadata": {
        "id": "F9Q-4LJhE1Z5"
      },
      "execution_count": null,
      "outputs": []
    },
    {
      "cell_type": "markdown",
      "source": [
        "El método ```groupby``` se usa para agrupar filas de un dataframe según los valores de una o varias columnas, y luego aplicar una o varias funciones de agregación a cada grupo. En otras palabras, el método ```groupby``` permite crear subconjuntos de datos de un dataframe basados en los valores de una o varias columnas, y luego realizar cálculos estadísticos sobre cada uno de estos subconjuntos.\n",
        "\n",
        "Por ejemplo, si quiere saber qué años tienen el mayor y menor número de películas, podemos hacer lo siguiente:"
      ],
      "metadata": {
        "id": "ahEVmuRV08Im"
      }
    },
    {
      "cell_type": "code",
      "source": [
        "count_per_year = df.groupby('title_year').size()\n",
        "print(count_per_year)\n",
        "print(f\"El año con mayor cantidad de películas producidas fue {count_per_year.idxmax()} con {count_per_year.max()} películas\")\n",
        "print(f\"El año con menor cantidad de películas producidas fue {count_per_year.idxmin()} con {count_per_year.min()} películas\")\n"
      ],
      "metadata": {
        "id": "X2xIPl671wpy"
      },
      "execution_count": null,
      "outputs": []
    },
    {
      "cell_type": "markdown",
      "source": [
        "El método ```size``` aplicado a una agrupación de filas creada con ```groupby``` retorna, en un arreglo de tipo ```series```, el número de elementos pertenecientes a cada uno de los grupos que se creó. En este caso particular, el número de películas producidas en cada año. En este arreglo, el índice corresponde a la variable en la cuál se creó el grupo (en este caso el año). \n",
        "\n",
        "El método ```max``` retorna el número más grande en el arreglo mientras que el método ```idxmax``` retorna el índice en el cuál se encuentra ese número.\n",
        "\n",
        "Puede crear una gráfica de barras en la que se muestre la cantidad de películas producidas cada año de la siguiente forma\n",
        "\n"
      ],
      "metadata": {
        "id": "6UC81P585mux"
      }
    },
    {
      "cell_type": "code",
      "source": [
        "ax = count_per_year.plot.bar(figsize = (18,10))\n",
        "ax.set_xlabel('Year')\n",
        "ax.set_ylabel('# of movies')"
      ],
      "metadata": {
        "id": "ESDc1nM_7jQA"
      },
      "execution_count": null,
      "outputs": []
    },
    {
      "cell_type": "code",
      "source": [
        "fig = px.bar(x = count_per_year.index, y = count_per_year, labels={'y':'# of movies'})\n",
        "fig.show()"
      ],
      "metadata": {
        "id": "N-FZ-GcB8BTR"
      },
      "execution_count": null,
      "outputs": []
    },
    {
      "cell_type": "markdown",
      "source": [
        "Ejercicio: ¿En qué año se tiene el mayor y menor promedio de _imdb_score_?\n",
        "\n",
        "Haga una gráfica de barras para mirar los promedios por año. Tip: El método ```mean()``` permite calcular promedios."
      ],
      "metadata": {
        "id": "BGRbTBrC9bAI"
      }
    },
    {
      "cell_type": "markdown",
      "source": [
        "Quiere ahora saber en qué año se ha gastado más y en qué año se ha gastado menos presupuesto en películas.\n",
        "\n",
        "Para esto, podemos hacer también una gráfica de líneas"
      ],
      "metadata": {
        "id": "RMeEDLQA9wSp"
      }
    },
    {
      "cell_type": "code",
      "source": [
        "df_budget_year = df.groupby('title_year')['budget'].sum()\n",
        "print(f\"Se gastó más presupuesto en el año {df_budget_year.idxmax()}\")\n"
      ],
      "metadata": {
        "id": "tJOWWAHO-COa"
      },
      "execution_count": null,
      "outputs": []
    },
    {
      "cell_type": "code",
      "source": [
        "ax = df_budget_year.plot()\n",
        "ax.set_xlabel(\"Year\")\n",
        "ax.set_ylabel(\"Budget\")"
      ],
      "metadata": {
        "id": "vVzSP0sT-ZyF"
      },
      "execution_count": null,
      "outputs": []
    },
    {
      "cell_type": "markdown",
      "source": [
        "Se puede entender mejor la gráfica si mostramos el presupuesto en millones de dólares"
      ],
      "metadata": {
        "id": "W3QuNf_u-wDU"
      }
    },
    {
      "cell_type": "code",
      "source": [
        "df_budget_year = df_budget_year / 100000"
      ],
      "metadata": {
        "id": "dFSKU76t_pbo"
      },
      "execution_count": null,
      "outputs": []
    },
    {
      "cell_type": "code",
      "source": [
        "fig = px.bar(x = df_budget_year.index, y = df_budget_year, labels={'y':'Budget (millions)'})\n",
        "fig.show()\n"
      ],
      "metadata": {
        "id": "tS-s-Ds5-0q-"
      },
      "execution_count": null,
      "outputs": []
    },
    {
      "cell_type": "markdown",
      "source": [
        "Ahora quiere saber si hay una relación entre  en _imdb_score_ de una película con su _movie_income_. Para esto, vamos a calcular la correlación entre las dos variables. \n",
        "\n",
        "La correlación es una medida estadística que describe la relación entre dos variables. En otras palabras, indica cómo se mueven o cambian juntas dos variables en relación a sus medias. Esta medida puede tomar valores entre -1 y 1. Un coeficiente de correlación de 1 indica una correlación positiva perfecta, lo que significa que a medida que aumenta una variable, también lo hace la otra en la misma proporción. Por otro lado, un coeficiente de correlación de -1 indica una correlación negativa perfecta, lo que significa que a medida que aumenta una variable, la otra disminuye en la misma proporción. Un coeficiente de correlación de 0 indica que no hay relación entre las dos variables.\n",
        "\n",
        "La correlación la podemos analizar de forma visual o de forma cuantitativa.\n",
        "\n",
        "Primero, calcule la correlación entre las dos variables, para esto, debe eliminar las filas con datos faltantes en estas variables.\n"
      ],
      "metadata": {
        "id": "vuBoIfSnASuh"
      }
    },
    {
      "cell_type": "code",
      "source": [
        "df_corr = df.loc[:,['budget','imdb_score']] #Dataframe con las variables a analizar\n",
        "df_corr"
      ],
      "metadata": {
        "id": "vVdT8hXE_hSD"
      },
      "execution_count": null,
      "outputs": []
    },
    {
      "cell_type": "code",
      "source": [
        "df_corr.dropna(inplace = True)\n",
        "df_corr"
      ],
      "metadata": {
        "id": "db8jBFcNEDOR"
      },
      "execution_count": null,
      "outputs": []
    },
    {
      "cell_type": "markdown",
      "source": [
        "El método ```dropna``` remueve las filas con valores faltantes, almacenados como ```nan``` en el _dataframe_. El parámetro ```inplace = True``` asegura que los cambios se almacenen en la variable _df_corr_.\n"
      ],
      "metadata": {
        "id": "BMWQNOC7ED1T"
      }
    },
    {
      "cell_type": "markdown",
      "source": [
        "El método ```plot.scatter``` grafica relaciones entre 2 variables. En este caso, en el eje x tenemos la variable _budget_ y en el eje y la variable _imdb_score_."
      ],
      "metadata": {
        "id": "R7rAiuddEkxj"
      }
    },
    {
      "cell_type": "code",
      "source": [
        "ax = df_corr.plot.scatter('budget','imdb_score',figsize = (10,10))"
      ],
      "metadata": {
        "id": "SuowpfNiEaTe"
      },
      "execution_count": null,
      "outputs": []
    },
    {
      "cell_type": "markdown",
      "source": [
        "Los valores atípico en la variable _budget_ dificultan la interpretación de la gráfica. Vamos a eliminar las filas del _dataframe_ con valores mayores a 2e9."
      ],
      "metadata": {
        "id": "u0Vy8TfQE843"
      }
    },
    {
      "cell_type": "code",
      "source": [
        "df_corr = df_corr[df_corr['budget']<2000000000]\n"
      ],
      "metadata": {
        "id": "Ji4YP2H6FVF1"
      },
      "execution_count": 50,
      "outputs": []
    },
    {
      "cell_type": "code",
      "source": [
        "fig = px.scatter(df_corr, x=\"budget\", y=\"imdb_score\", labels = {'budget': 'Budget per movie', 'imdb_score':'IMDB score'})\n",
        "fig.show()"
      ],
      "metadata": {
        "id": "k2xPtkF1FeKS"
      },
      "execution_count": null,
      "outputs": []
    },
    {
      "cell_type": "markdown",
      "source": [
        "Puede ver que hay una relación entre las dos variables. Si quiere cuantificar esta relación puede utilizar la correlación"
      ],
      "metadata": {
        "id": "XrdDgRm_GgBp"
      }
    },
    {
      "cell_type": "code",
      "source": [
        "corr_mat = df_corr.corr()\n",
        "print(corr_mat)\n",
        "print(f\"La correlación entre las variables budget e IMDB score es de {corr_mat.iloc[0,1]:.2f}\")"
      ],
      "metadata": {
        "id": "KIgsUaRrHbNg"
      },
      "execution_count": null,
      "outputs": []
    },
    {
      "cell_type": "markdown",
      "source": [
        "## **4. Análisis geoespacial**\n",
        "\n",
        "En este punto llevará los análisis que se han hecho a gráficas que nos puedan dar información acerca de los países donde se produjeron las películas. para esto utilizará la librería ```geopandas```\n",
        "\n",
        "La función ```gpd.read_file``` carga un _dataframe_ de ```geopandas```. En este caso está seleccionando las columnas con la información relevante para las figuras y les está cambiando el nombre. La columna _geometry_ tiene la información de los polígonos que conforman cada país."
      ],
      "metadata": {
        "id": "-2XKT-EZIMCm"
      }
    },
    {
      "cell_type": "code",
      "source": [
        "shpfile = 'IMDBAnalyticsData/Data/Map/ne_10m_admin_0_countries.shp'\n",
        "geo_df = gpd.read_file(shpfile)[['ADMIN', 'ADM0_A3', 'geometry']]\n",
        "geo_df.columns = ['country', 'country_code', 'geometry']\n",
        "geo_df.head(3)"
      ],
      "metadata": {
        "id": "sXslZDX3In6X"
      },
      "execution_count": null,
      "outputs": []
    },
    {
      "cell_type": "markdown",
      "source": [
        "En este caso, puede remover la fila correspondiente a la antártica dado que ocupa mucho espacio en el mapa y no es relevante."
      ],
      "metadata": {
        "id": "nYHMMZzfJ9j6"
      }
    },
    {
      "cell_type": "code",
      "source": [
        "geo_df = geo_df.drop(geo_df.loc[geo_df['country'] == 'Antarctica'].index)\n",
        "geo_df.plot(figsize=(20, 20), edgecolor='white', linewidth=1, color='lightblue')"
      ],
      "metadata": {
        "id": "UD6gnIDkJ11Q"
      },
      "execution_count": null,
      "outputs": []
    },
    {
      "cell_type": "markdown",
      "source": [
        "Puede observar la lista de países que se encuentran en el mapa, que seguramente son más de los países de los que se tiene registro de películas (eso por ahora es irrelevante)"
      ],
      "metadata": {
        "id": "1Yi2fXV8KRRY"
      }
    },
    {
      "cell_type": "code",
      "source": [
        "geo_df['country']"
      ],
      "metadata": {
        "id": "ah1QnWF3KQTU"
      },
      "execution_count": null,
      "outputs": []
    },
    {
      "cell_type": "markdown",
      "source": [
        "Ahora, va a obtener información que se pueda graficar en el mapa. Por ejemplo, el número de películas producidas en cada país."
      ],
      "metadata": {
        "id": "WaVZDrUlKfwg"
      }
    },
    {
      "cell_type": "code",
      "source": [
        "df_mbc = df.groupby('country').size().to_frame('# of movies')\n",
        "df_mbc"
      ],
      "metadata": {
        "id": "m9FUUngdKffP"
      },
      "execution_count": null,
      "outputs": []
    },
    {
      "cell_type": "markdown",
      "source": [
        "Ahora, va a combinar la información de ambas tablas. Básicamente, debe adjuntar la información contenida en el _shapefile_ a cada uno de los países para los que se tiene registro de películas. Para esto va a utilizar la función ```pd.merge```.\n",
        "\n",
        "La función ```pd.merge``` se utiliza para combinar dos o más dataframes en función de una o varias columnas en común, similar a un join en SQL. El resultado de la operación es un nuevo dataframe que contiene todas las filas y columnas de los dataframes originales que cumplen con las condiciones de combinación especificadas.\n",
        "\n",
        "La función pd.merge toma como entrada dos dataframes, junto con los argumentos que indican las columnas en común en las que se desea fusionar los dataframes. Existen varios tipos de combinaciones que se pueden especificar mediante el argumento \"how\", como \"inner\" (intersección), \"outer\" (unión), \"left\" (izquierda) y \"right\" (derecha).\n",
        "\n",
        "Cuando se utiliza la función ```pd.merge```, se puede especificar un conjunto de columnas en las que se debe basar la combinación, utilizando el argumento \"on\". También se pueden especificar diferentes nombres de columnas para cada dataframe, utilizando los argumentos ```left_on``` y ```right_on```. En caso de que las columnas en común tengan nombres diferentes en los dataframes originales, se pueden utilizar los argumentos ```left_index``` y ```right_index``` para especificar que las combinaciones se realicen en los índices en lugar de en las columnas.\n",
        "\n",
        "\n"
      ],
      "metadata": {
        "id": "OUcVYnugK1ww"
      }
    },
    {
      "cell_type": "code",
      "source": [
        "df_mbc_shp = pd.merge(left=geo_df, right=df_mbc, how='left', left_on='country', right_on='country')\n",
        "df_mbc_shp"
      ],
      "metadata": {
        "id": "gBXl53MfK1ct"
      },
      "execution_count": null,
      "outputs": []
    },
    {
      "cell_type": "markdown",
      "source": [
        "Por último, grafique en el mapa la cantidad de películas producidas en cada país.\n"
      ],
      "metadata": {
        "id": "e-KBsI1ALkv-"
      }
    },
    {
      "cell_type": "code",
      "source": [
        "fig = px.choropleth_mapbox(df_mbc_shp,\n",
        "                           geojson=df_mbc_shp.geometry,\n",
        "                           locations=df_mbc_shp.index,\n",
        "                           color=\"# of movies\",\n",
        "                           mapbox_style=\"open-street-map\",\n",
        "                           opacity = 0.5,\n",
        "                           zoom=8.5)\n",
        "fig.show()"
      ],
      "metadata": {
        "id": "UGmddlhtNEBn"
      },
      "execution_count": null,
      "outputs": []
    }
  ]
}